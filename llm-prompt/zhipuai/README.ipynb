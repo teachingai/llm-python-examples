{
 "cells": [
  {
   "attachments": {},
   "cell_type": "markdown",
   "metadata": {},
   "source": [
    "> 该目录下的代码用于学习使用质谱AI大模型平台，实现 提示工程的实现\n",
    "\n",
    "### 安装依赖组件"
   ]
  },
  {
   "cell_type": "code",
   "execution_count": null,
   "metadata": {},
   "outputs": [],
   "source": [
    "# 安装 ZhipuAI\n",
    "!pip install ZhipuAI\n",
    "# 安装 dotenv\n",
    "!pip install python-dotenv"
   ]
  }
 ],
 "metadata": {
  "kernelspec": {
   "display_name": "llms",
   "language": "python",
   "name": "python3"
  },
  "language_info": {
   "codemirror_mode": {
    "name": "ipython",
    "version": 3
   },
   "file_extension": ".py",
   "mimetype": "text/x-python",
   "name": "python",
   "nbconvert_exporter": "python",
   "pygments_lexer": "ipython3",
   "version": "3.12.4"
  },
  "orig_nbformat": 4,
  "vscode": {
   "interpreter": {
    "hash": "7c3736d988a94e82c9ca90cbda415243359405dbb2efaca4d20e58cf9481119c"
   }
  }
 },
 "nbformat": 4,
 "nbformat_minor": 2
}
