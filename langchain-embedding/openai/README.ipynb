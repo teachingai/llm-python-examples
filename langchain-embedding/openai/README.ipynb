{
 "cells": [
  {
   "attachments": {},
   "cell_type": "markdown",
   "metadata": {},
   "source": [
    "### 说明\n",
    "\n",
    "> 该目录用于记录使用质谱AI大模型平台，实现 \n"
   ]
  },
  {
   "attachments": {},
   "cell_type": "markdown",
   "metadata": {},
   "source": [
    "#### 安装依赖组件"
   ]
  },
  {
   "cell_type": "code",
   "execution_count": 1,
   "metadata": {},
   "outputs": [
    {
     "name": "stdout",
     "output_type": "stream",
     "text": [
      "Requirement already satisfied: python-dotenv in e:\\miniconda3\\envs\\llms\\lib\\site-packages (1.0.1)\n"
     ]
    }
   ],
   "source": [
    "# 安装 dotenv\n",
    "!pip install python-dotenv"
   ]
  },
  {
   "cell_type": "code",
   "execution_count": 2,
   "metadata": {},
   "outputs": [
    {
     "name": "stdout",
     "output_type": "stream",
     "text": [
      "Requirement already satisfied: pdfminer.six in e:\\miniconda3\\envs\\llms\\lib\\site-packages (20231228)\n",
      "Requirement already satisfied: charset-normalizer>=2.0.0 in e:\\miniconda3\\envs\\llms\\lib\\site-packages (from pdfminer.six) (2.0.4)\n",
      "Requirement already satisfied: cryptography>=36.0.0 in e:\\miniconda3\\envs\\llms\\lib\\site-packages (from pdfminer.six) (42.0.5)\n",
      "Requirement already satisfied: cffi>=1.12 in e:\\miniconda3\\envs\\llms\\lib\\site-packages (from cryptography>=36.0.0->pdfminer.six) (1.16.0)\n",
      "Requirement already satisfied: pycparser in e:\\miniconda3\\envs\\llms\\lib\\site-packages (from cffi>=1.12->cryptography>=36.0.0->pdfminer.six) (2.21)\n"
     ]
    }
   ],
   "source": [
    "# 安装 pdf 解析库\n",
    "!pip install pdfminer.six"
   ]
  },
  {
   "cell_type": "code",
   "execution_count": 3,
   "metadata": {},
   "outputs": [
    {
     "name": "stdout",
     "output_type": "stream",
     "text": [
      "Requirement already satisfied: elasticsearch in e:\\miniconda3\\envs\\llms\\lib\\site-packages (8.14.0)\n",
      "Requirement already satisfied: elastic-transport<9,>=8.13 in e:\\miniconda3\\envs\\llms\\lib\\site-packages (from elasticsearch) (8.13.1)\n",
      "Requirement already satisfied: urllib3<3,>=1.26.2 in e:\\miniconda3\\envs\\llms\\lib\\site-packages (from elastic-transport<9,>=8.13->elasticsearch) (1.26.19)\n",
      "Requirement already satisfied: certifi in e:\\miniconda3\\envs\\llms\\lib\\site-packages (from elastic-transport<9,>=8.13->elasticsearch) (2024.6.2)\n"
     ]
    }
   ],
   "source": [
    "# 安装 elasticsearch 客户端\n",
    "!pip install elasticsearch"
   ]
  },
  {
   "cell_type": "code",
   "execution_count": 5,
   "metadata": {},
   "outputs": [
    {
     "name": "stdout",
     "output_type": "stream",
     "text": [
      "Requirement already satisfied: helpers in e:\\miniconda3\\envs\\llms\\lib\\site-packages (0.2.0)\n"
     ]
    }
   ],
   "source": [
    "# 安装工具库\n",
    "!pip install helpers\n",
    "\n",
    "!pip uninstall charset-normalizer\n",
    "!pip install charset-normalizer\n"
   ]
  }
 ],
 "metadata": {
  "kernelspec": {
   "display_name": "llms",
   "language": "python",
   "name": "python3"
  },
  "language_info": {
   "codemirror_mode": {
    "name": "ipython",
    "version": 3
   },
   "file_extension": ".py",
   "mimetype": "text/x-python",
   "name": "python",
   "nbconvert_exporter": "python",
   "pygments_lexer": "ipython3",
   "version": "3.11.9"
  },
  "orig_nbformat": 4,
  "vscode": {
   "interpreter": {
    "hash": "7c3736d988a94e82c9ca90cbda415243359405dbb2efaca4d20e58cf9481119c"
   }
  }
 },
 "nbformat": 4,
 "nbformat_minor": 2
}
