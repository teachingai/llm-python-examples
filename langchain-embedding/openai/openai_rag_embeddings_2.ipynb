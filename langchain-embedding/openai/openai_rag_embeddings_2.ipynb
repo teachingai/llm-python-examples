{
 "cells": [
  {
   "attachments": {},
   "cell_type": "markdown",
   "metadata": {},
   "source": [
    "#### 一、安装依赖组件"
   ]
  },
  {
   "cell_type": "code",
   "execution_count": null,
   "metadata": {
    "ExecuteTime": {
     "end_time": "2024-06-23T05:52:40.085672Z",
     "start_time": "2024-06-23T05:52:38.825251Z"
    }
   },
   "outputs": [],
   "source": [
    "# 安装 dotenv\n",
    "!pip install python-dotenv\n",
    "# 安装 pdf 解析库\n",
    "!pip install pdfminer.six\n",
    "# 安装 elasticsearch 客户端\n",
    "!pip install elasticsearch\n",
    "### 安装 NLTK（文本处理方法库）\n",
    "!pip install nltk\n",
    "# 安装工具库\n",
    "!pip install helpers"
   ]
  },
  {
   "attachments": {},
   "cell_type": "markdown",
   "metadata": {},
   "source": [
    "#### 二、示例代码"
   ]
  },
  {
   "cell_type": "code",
   "execution_count": null,
   "metadata": {
    "ExecuteTime": {
     "end_time": "2024-06-23T05:52:45.123159Z",
     "start_time": "2024-06-23T05:52:44.636958Z"
    }
   },
   "outputs": [],
   "source": [
    "# 导入依赖库\n",
    "from dotenv import load_dotenv, find_dotenv\n",
    "from pdfminer.high_level import extract_pages\n",
    "from pdfminer.layout import LTTextContainer\n",
    "from elasticsearch import Elasticsearch\n",
    "from nltk.stem import PorterStemmer\n",
    "from nltk.tokenize import word_tokenize\n",
    "from nltk.corpus import stopwords\n",
    "import helpers\n",
    "import re\n",
    "import os, time\n",
    "import warnings\n",
    "\n"
   ]
  },
  {
   "cell_type": "code",
   "execution_count": null,
   "metadata": {
    "ExecuteTime": {
     "end_time": "2024-06-23T05:52:45.129447Z",
     "start_time": "2024-06-23T05:52:45.124157Z"
    }
   },
   "outputs": [],
   "source": [
    "# 加载 .env 文件中定义的环境变量\n",
    "_ = load_dotenv(find_dotenv())\n",
    "\n",
    "# 引入配置文件\n",
    "ELASTICSEARCH_BASE_URL = os.getenv('ELASTICSEARCH_BASE_URL')\n",
    "ELASTICSEARCH_USERNAME = os.getenv('ELASTICSEARCH_USERNAME')\n",
    "ELASTICSEARCH_PASSWORD = os.getenv('ELASTICSEARCH_PASSWORD')"
   ]
  },
  {
   "cell_type": "code",
   "execution_count": null,
   "metadata": {
    "ExecuteTime": {
     "end_time": "2024-06-23T05:52:45.133815Z",
     "start_time": "2024-06-23T05:52:45.130444Z"
    }
   },
   "outputs": [],
   "source": [
    "# 定义函数提取 PDF 文本\n",
    "def extract_text_from_pdf(filename, page_numbers=None, min_line_length=1):\n",
    "    '''从 PDF 文件中（按指定页码）提取文字'''\n",
    "    paragraphs = []\n",
    "    buffer = ''\n",
    "    full_text = ''\n",
    "    # 提取全部文本\n",
    "    for i, page_layout in enumerate(extract_pages(filename)):\n",
    "        # 如果指定了页码范围，跳过范围外的页\n",
    "        if page_numbers is not None and i not in page_numbers:\n",
    "            continue\n",
    "        for element in page_layout:\n",
    "            if isinstance(element, LTTextContainer):\n",
    "                full_text += element.get_text() + '\\n'\n",
    "    # 按空行分隔，将文本重新组织成段落\n",
    "    lines = full_text.split('\\n')\n",
    "    for text in lines:\n",
    "        if len(text) >= min_line_length:\n",
    "            buffer += (' '+text) if not text.endswith('-') else text.strip('-')\n",
    "        elif buffer:\n",
    "            paragraphs.append(buffer)\n",
    "            buffer = ''\n",
    "    if buffer:\n",
    "        paragraphs.append(buffer)\n",
    "    return paragraphs"
   ]
  },
  {
   "cell_type": "code",
   "execution_count": null,
   "metadata": {
    "ExecuteTime": {
     "end_time": "2024-06-23T05:52:45.352718Z",
     "start_time": "2024-06-23T05:52:45.134813Z"
    }
   },
   "outputs": [],
   "source": [
    "\n",
    "paragraphs = extract_text_from_pdf(\"../llama2.pdf\", min_line_length=10)\n",
    "\n",
    "for para in paragraphs[:4]:\n",
    "    print(para+\"\\n\")"
   ]
  }
 ],
 "metadata": {
  "kernelspec": {
   "display_name": "llms",
   "language": "python",
   "name": "python3"
  },
  "language_info": {
   "codemirror_mode": {
    "name": "ipython",
    "version": 3
   },
   "file_extension": ".py",
   "mimetype": "text/x-python",
   "name": "python",
   "nbconvert_exporter": "python",
   "pygments_lexer": "ipython3",
   "version": "3.12.4"
  },
  "orig_nbformat": 4,
  "vscode": {
   "interpreter": {
    "hash": "7c3736d988a94e82c9ca90cbda415243359405dbb2efaca4d20e58cf9481119c"
   }
  }
 },
 "nbformat": 4,
 "nbformat_minor": 2
}
