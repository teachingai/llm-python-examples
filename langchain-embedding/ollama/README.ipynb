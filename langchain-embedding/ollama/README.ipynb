{
 "cells": [
  {
   "attachments": {},
   "cell_type": "markdown",
   "metadata": {},
   "source": [
    "### 说明\n",
    "\n",
    "> 该目录用于记录使用质谱AI大模型平台，实现 \n"
   ]
  },
  {
   "attachments": {},
   "cell_type": "markdown",
   "metadata": {},
   "source": [
    "#### 安装依赖组件"
   ]
  },
  {
   "cell_type": "code",
   "execution_count": null,
   "metadata": {},
   "outputs": [],
   "source": [
    "# 安装 dotenv\n",
    "!pip install python-dotenv"
   ]
  },
  {
   "cell_type": "code",
   "execution_count": null,
   "metadata": {},
   "outputs": [],
   "source": [
    "# 安装 pdf 解析库\n",
    "!pip install pdfminer.six"
   ]
  },
  {
   "cell_type": "code",
   "execution_count": null,
   "metadata": {},
   "outputs": [],
   "source": [
    "# 安装 elasticsearch 客户端\n",
    "!pip install elasticsearch"
   ]
  },
  {
   "cell_type": "code",
   "execution_count": 1,
   "metadata": {},
   "outputs": [
    {
     "name": "stdout",
     "output_type": "stream",
     "text": [
      "Collecting ollama\n",
      "  Downloading ollama-0.2.1-py3-none-any.whl.metadata (4.2 kB)\n",
      "Requirement already satisfied: httpx<0.28.0,>=0.27.0 in e:\\miniconda3\\envs\\llms\\lib\\site-packages (from ollama) (0.27.0)\n",
      "Requirement already satisfied: anyio in e:\\miniconda3\\envs\\llms\\lib\\site-packages (from httpx<0.28.0,>=0.27.0->ollama) (3.5.0)\n",
      "Requirement already satisfied: certifi in e:\\miniconda3\\envs\\llms\\lib\\site-packages (from httpx<0.28.0,>=0.27.0->ollama) (2024.6.2)\n",
      "Requirement already satisfied: httpcore==1.* in e:\\miniconda3\\envs\\llms\\lib\\site-packages (from httpx<0.28.0,>=0.27.0->ollama) (1.0.5)\n",
      "Requirement already satisfied: idna in e:\\miniconda3\\envs\\llms\\lib\\site-packages (from httpx<0.28.0,>=0.27.0->ollama) (2.10)\n",
      "Requirement already satisfied: sniffio in e:\\miniconda3\\envs\\llms\\lib\\site-packages (from httpx<0.28.0,>=0.27.0->ollama) (1.3.0)\n",
      "Requirement already satisfied: h11<0.15,>=0.13 in e:\\miniconda3\\envs\\llms\\lib\\site-packages (from httpcore==1.*->httpx<0.28.0,>=0.27.0->ollama) (0.14.0)\n",
      "Downloading ollama-0.2.1-py3-none-any.whl (9.7 kB)\n",
      "Installing collected packages: ollama\n",
      "Successfully installed ollama-0.2.1\n"
     ]
    }
   ],
   "source": [
    "# 安装 Ollama\n",
    "!pip install ollama"
   ]
  },
  {
   "cell_type": "code",
   "execution_count": null,
   "metadata": {},
   "outputs": [],
   "source": [
    "# 安装工具库\n",
    "!pip install helpers\n",
    "\n",
    "!pip uninstall charset-normalizer\n",
    "!pip install charset-normalizer\n",
    "\n"
   ]
  }
 ],
 "metadata": {
  "kernelspec": {
   "display_name": "llms",
   "language": "python",
   "name": "python3"
  },
  "language_info": {
   "codemirror_mode": {
    "name": "ipython",
    "version": 3
   },
   "file_extension": ".py",
   "mimetype": "text/x-python",
   "name": "python",
   "nbconvert_exporter": "python",
   "pygments_lexer": "ipython3",
   "version": "3.11.9"
  },
  "orig_nbformat": 4,
  "vscode": {
   "interpreter": {
    "hash": "7c3736d988a94e82c9ca90cbda415243359405dbb2efaca4d20e58cf9481119c"
   }
  }
 },
 "nbformat": 4,
 "nbformat_minor": 2
}
